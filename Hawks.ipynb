{
  "nbformat": 4,
  "nbformat_minor": 0,
  "metadata": {
    "colab": {
      "provenance": [],
      "collapsed_sections": [
        "TOwWe01Qf3ec"
      ],
      "gpuType": "T4"
    },
    "kernelspec": {
      "name": "python3",
      "display_name": "Python 3"
    },
    "language_info": {
      "name": "python"
    },
    "accelerator": "GPU"
  },
  "cells": [
    {
      "cell_type": "code",
      "source": [
        "!pip install chess"
      ],
      "metadata": {
        "colab": {
          "base_uri": "https://localhost:8080/"
        },
        "id": "Iu4r43t-Bp8d",
        "outputId": "be3d9f76-303a-44fe-89d2-054564bfad2c"
      },
      "execution_count": null,
      "outputs": [
        {
          "output_type": "stream",
          "name": "stdout",
          "text": [
            "Collecting chess\n",
            "  Downloading chess-1.10.0-py3-none-any.whl (154 kB)\n",
            "\u001b[?25l     \u001b[90m━━━━━━━━━━━━━━━━━━━━━━━━━━━━━━━━━━━━━━━━\u001b[0m \u001b[32m0.0/154.4 kB\u001b[0m \u001b[31m?\u001b[0m eta \u001b[36m-:--:--\u001b[0m\r\u001b[2K     \u001b[91m━━━━━━━━━━━━━━━━━━\u001b[0m\u001b[91m╸\u001b[0m\u001b[90m━━━━━━━━━━━━━━━━━━━━━\u001b[0m \u001b[32m71.7/154.4 kB\u001b[0m \u001b[31m2.1 MB/s\u001b[0m eta \u001b[36m0:00:01\u001b[0m\r\u001b[2K     \u001b[90m━━━━━━━━━━━━━━━━━━━━━━━━━━━━━━━━━━━━━━━━\u001b[0m \u001b[32m154.4/154.4 kB\u001b[0m \u001b[31m3.1 MB/s\u001b[0m eta \u001b[36m0:00:00\u001b[0m\n",
            "\u001b[?25hInstalling collected packages: chess\n",
            "Successfully installed chess-1.10.0\n"
          ]
        }
      ]
    },
    {
      "cell_type": "code",
      "source": [
        "import pandas as pd\n",
        "import chess\n",
        "import random\n",
        "import numpy as np\n",
        "import matplotlib.pyplot as plt"
      ],
      "metadata": {
        "id": "jJSXRDDBnlYi"
      },
      "execution_count": null,
      "outputs": []
    },
    {
      "cell_type": "markdown",
      "source": [
        "## Data"
      ],
      "metadata": {
        "id": "3ZoGGDnXBI2Q"
      }
    },
    {
      "cell_type": "code",
      "source": [
        "df = pd.read_csv(\"/content/drive/MyDrive/Tcc/uci_games.csv\")\n",
        "df = df[df[\"AN\"].map(len) > 14]\n",
        "import ast\n",
        "def convert_to_list(string):\n",
        "    try:\n",
        "        return ast.literal_eval(string)\n",
        "    except ValueError:\n",
        "        return []\n",
        "df['AN'] = df['AN'].apply(convert_to_list)"
      ],
      "metadata": {
        "id": "zMmO868TBVsa"
      },
      "execution_count": null,
      "outputs": []
    },
    {
      "cell_type": "code",
      "source": [
        "alphabet_to_number = {\n",
        "    'a': 0,\n",
        "    'b': 1,\n",
        "    'c': 2,\n",
        "    'd': 3,\n",
        "    'e': 4,\n",
        "    'f': 5,\n",
        "    'g': 6,\n",
        "    'h': 7\n",
        "}\n",
        "\n",
        "number_to_alphabet = {v: k for k, v in alphabet_to_number.items()}\n",
        "def fen_to_numeric(fen_string,piece):\n",
        "    piece_placement = fen_string.split()[0]\n",
        "    board = [[0] * 8 for _ in range(8)]\n",
        "    row_index = 0\n",
        "    col_index = 0\n",
        "\n",
        "    for char in piece_placement:\n",
        "        if char == '/':\n",
        "            row_index += 1\n",
        "            col_index = 0\n",
        "        elif char.isdigit():\n",
        "            col_index += int(char)\n",
        "        elif char.lower() == piece.lower():\n",
        "            piece_value = 1\n",
        "            if char.islower():\n",
        "                piece_value *= -1\n",
        "            board[row_index][col_index] = piece_value\n",
        "            col_index += 1\n",
        "        else:\n",
        "          board[row_index][col_index] = 0\n",
        "          col_index += 1\n",
        "\n",
        "    return board\n",
        "\n",
        "def matrix_board(move_list):\n",
        "  board = get_X_board(move_list)\n",
        "  pieces = [\"p\",\"k\",\"r\",\"n\",\"q\",\"b\"]\n",
        "  layers = []\n",
        "  for piece in pieces:\n",
        "    layers.append(fen_to_numeric(board.fen(),piece))\n",
        "  return np.stack(layers)\n",
        "\n",
        "def get_X_board(move_list):\n",
        "  board = chess.Board()\n",
        "  for move in move_list:\n",
        "    board.push_uci(move)\n",
        "  return board\n",
        "\n",
        "def move_matrix(move):\n",
        "  uci_move = move\n",
        "\n",
        "  from_output_layer = np.zeros((8,8))\n",
        "  from_row= 8 - int(uci_move[1])\n",
        "  from_column= alphabet_to_number[uci_move[0]]\n",
        "  from_output_layer[from_row, from_column] = 1\n",
        "\n",
        "  to_output_layer = np.zeros((8,8))\n",
        "  to_row = 8 - int(uci_move[3])\n",
        "  tow_column = alphabet_to_number[uci_move[2]]\n",
        "  to_output_layer[to_row, tow_column] = 1\n",
        "  return np.stack([from_output_layer,to_output_layer])"
      ],
      "metadata": {
        "id": "FN6Pv8JRBJ6C"
      },
      "execution_count": null,
      "outputs": []
    },
    {
      "cell_type": "code",
      "source": [
        "def create_target(df):\n",
        "  X = []\n",
        "  y = []\n",
        "  for game in df[\"AN\"]:\n",
        "    index = random.randint(1,len(game)-1)\n",
        "    next_move = game[index]\n",
        "    previous_position = game[:index]\n",
        "    next_move = move_matrix(next_move)\n",
        "    previous_position = matrix_board(previous_position)\n",
        "    if index % 2 == 1:\n",
        "      previous_position *= -1\n",
        "    X.append(previous_position)\n",
        "    y.append(next_move)\n",
        "  return X,y"
      ],
      "metadata": {
        "id": "bnC57E7CBmJo"
      },
      "execution_count": null,
      "outputs": []
    },
    {
      "cell_type": "code",
      "source": [
        "def create_target(df):\n",
        "  X = []\n",
        "  y = []\n",
        "  for game in df[\"AN\"]:\n",
        "    for index in range(1,len(game)-1):\n",
        "      next_move = game[index]\n",
        "      previous_position = game[:index]\n",
        "      next_move = move_matrix(next_move)\n",
        "      previous_position = matrix_board(previous_position)\n",
        "      if index % 2 == 1:\n",
        "        previous_position *= -1\n",
        "      X.append(previous_position)\n",
        "      y.append(next_move)\n",
        "  return X,y"
      ],
      "metadata": {
        "id": "TNAVoIIBimVT"
      },
      "execution_count": null,
      "outputs": []
    },
    {
      "cell_type": "code",
      "source": [
        "X,y = create_target(df)"
      ],
      "metadata": {
        "id": "Ae2ONzGUBycR"
      },
      "execution_count": null,
      "outputs": []
    },
    {
      "cell_type": "markdown",
      "source": [
        "## Model"
      ],
      "metadata": {
        "id": "U2um074rBHjx"
      }
    },
    {
      "cell_type": "code",
      "source": [
        "import re"
      ],
      "metadata": {
        "id": "ggQ9ov4MR3Bd"
      },
      "execution_count": null,
      "outputs": []
    },
    {
      "cell_type": "code",
      "source": [
        "import tensorflow as tf\n",
        "from tensorflow import keras"
      ],
      "metadata": {
        "id": "02v2LIwQE5J6"
      },
      "execution_count": null,
      "outputs": []
    },
    {
      "cell_type": "code",
      "source": [
        "def custom_loss(output, target):\n",
        "    from_loss = tf.keras.losses.CategoricalCrossentropy()\n",
        "    to_loss = tf.keras.losses.CategoricalCrossentropy()\n",
        "    loss = from_loss(output[:,0,:], target[:,0,:]) + to_loss(output[:,1,:], target[:,1,:])\n",
        "    return loss"
      ],
      "metadata": {
        "id": "Odr5d1qCLKIX"
      },
      "execution_count": null,
      "outputs": []
    },
    {
      "cell_type": "markdown",
      "source": [
        "## Baseline"
      ],
      "metadata": {
        "id": "TOwWe01Qf3ec"
      }
    },
    {
      "cell_type": "code",
      "source": [
        "X_train = np.array(X)\n",
        "y_train = np.array(y)\n",
        "\n",
        "model = keras.Sequential([\n",
        "    keras.layers.Conv2D(32, (3, 3), activation='relu', input_shape=(6, 8, 8)),\n",
        "    keras.layers.Conv2D(64, (3, 3), activation='selu'),\n",
        "    keras.layers.Flatten(),\n",
        "    keras.layers.Dense(64, activation='selu'),\n",
        "    keras.layers.Dense(2 * 8 * 8),\n",
        "])\n",
        "def reshape_output(x):\n",
        "    return tf.reshape(x, (-1, 2, 8, 8))\n",
        "\n",
        "model.add(keras.layers.Lambda(reshape_output))\n",
        "\n",
        "model.compile(optimizer='adam', loss=custom_loss, metrics=['mae'])\n",
        "\n",
        "history = model.fit(X_train, y_train, epochs=30, validation_split=0.2, batch_size=32)"
      ],
      "metadata": {
        "id": "KkjCcWzZWBhL",
        "colab": {
          "base_uri": "https://localhost:8080/"
        },
        "outputId": "47cd9791-f67a-4b82-b6f5-51f88327118f"
      },
      "execution_count": null,
      "outputs": [
        {
          "output_type": "stream",
          "name": "stdout",
          "text": [
            "Epoch 1/30\n",
            "336/336 [==============================] - 20s 8ms/step - loss: 1.9810 - mae: 0.6152 - val_loss: 2.0122 - val_mae: 0.8162\n",
            "Epoch 2/30\n",
            "336/336 [==============================] - 2s 6ms/step - loss: 2.0802 - mae: 0.8533 - val_loss: 2.0614 - val_mae: 0.8868\n",
            "Epoch 3/30\n",
            "336/336 [==============================] - 2s 6ms/step - loss: 2.0265 - mae: 0.9056 - val_loss: 1.9684 - val_mae: 0.9390\n",
            "Epoch 4/30\n",
            "336/336 [==============================] - 2s 6ms/step - loss: 1.9981 - mae: 0.9477 - val_loss: 2.0568 - val_mae: 0.9541\n",
            "Epoch 5/30\n",
            "336/336 [==============================] - 2s 5ms/step - loss: 2.0311 - mae: 0.9561 - val_loss: 1.9727 - val_mae: 0.9674\n",
            "Epoch 6/30\n",
            "336/336 [==============================] - 2s 5ms/step - loss: 2.0091 - mae: 0.9718 - val_loss: 2.0245 - val_mae: 0.9786\n",
            "Epoch 7/30\n",
            "336/336 [==============================] - 2s 7ms/step - loss: 2.0044 - mae: 0.9778 - val_loss: 2.0290 - val_mae: 0.9815\n",
            "Epoch 8/30\n",
            "336/336 [==============================] - 2s 6ms/step - loss: 2.0001 - mae: 0.9796 - val_loss: 2.0013 - val_mae: 0.9826\n",
            "Epoch 9/30\n",
            "336/336 [==============================] - 2s 5ms/step - loss: 1.9934 - mae: 0.9800 - val_loss: 2.0013 - val_mae: 0.9826\n",
            "Epoch 10/30\n",
            "336/336 [==============================] - 2s 5ms/step - loss: 1.9934 - mae: 0.9800 - val_loss: 2.0013 - val_mae: 0.9826\n",
            "Epoch 11/30\n",
            "336/336 [==============================] - 2s 5ms/step - loss: 1.9934 - mae: 0.9800 - val_loss: 2.0013 - val_mae: 0.9826\n",
            "Epoch 12/30\n",
            "336/336 [==============================] - 2s 5ms/step - loss: 1.9934 - mae: 0.9800 - val_loss: 2.0013 - val_mae: 0.9826\n",
            "Epoch 13/30\n",
            "336/336 [==============================] - 2s 5ms/step - loss: 1.9934 - mae: 0.9800 - val_loss: 2.0013 - val_mae: 0.9826\n",
            "Epoch 14/30\n",
            "336/336 [==============================] - 2s 7ms/step - loss: 1.9934 - mae: 0.9800 - val_loss: 2.0013 - val_mae: 0.9826\n",
            "Epoch 15/30\n",
            "336/336 [==============================] - 2s 7ms/step - loss: 1.9934 - mae: 0.9800 - val_loss: 2.0013 - val_mae: 0.9826\n",
            "Epoch 16/30\n",
            "336/336 [==============================] - 2s 5ms/step - loss: 1.9934 - mae: 0.9800 - val_loss: 2.0013 - val_mae: 0.9826\n",
            "Epoch 17/30\n",
            "336/336 [==============================] - 2s 6ms/step - loss: 1.9934 - mae: 0.9800 - val_loss: 2.0013 - val_mae: 0.9826\n",
            "Epoch 18/30\n",
            "336/336 [==============================] - 2s 6ms/step - loss: 1.9934 - mae: 0.9800 - val_loss: 2.0013 - val_mae: 0.9826\n",
            "Epoch 19/30\n",
            "336/336 [==============================] - 2s 6ms/step - loss: 1.9934 - mae: 0.9800 - val_loss: 2.0013 - val_mae: 0.9826\n",
            "Epoch 20/30\n",
            "336/336 [==============================] - 2s 6ms/step - loss: 1.9934 - mae: 0.9800 - val_loss: 2.0013 - val_mae: 0.9826\n",
            "Epoch 21/30\n",
            "336/336 [==============================] - 3s 9ms/step - loss: 1.9934 - mae: 0.9800 - val_loss: 2.0013 - val_mae: 0.9826\n",
            "Epoch 22/30\n",
            "336/336 [==============================] - 2s 6ms/step - loss: 1.9934 - mae: 0.9800 - val_loss: 2.0013 - val_mae: 0.9826\n",
            "Epoch 23/30\n",
            "336/336 [==============================] - 2s 6ms/step - loss: 1.9934 - mae: 0.9800 - val_loss: 2.0013 - val_mae: 0.9826\n",
            "Epoch 24/30\n",
            "336/336 [==============================] - 2s 6ms/step - loss: 1.9934 - mae: 0.9800 - val_loss: 2.0013 - val_mae: 0.9826\n",
            "Epoch 25/30\n",
            "336/336 [==============================] - 2s 6ms/step - loss: 1.9934 - mae: 0.9800 - val_loss: 2.0013 - val_mae: 0.9826\n",
            "Epoch 26/30\n",
            "336/336 [==============================] - 2s 5ms/step - loss: 1.9934 - mae: 0.9800 - val_loss: 2.0013 - val_mae: 0.9826\n",
            "Epoch 27/30\n",
            "336/336 [==============================] - 3s 8ms/step - loss: 1.9934 - mae: 0.9800 - val_loss: 2.0013 - val_mae: 0.9826\n",
            "Epoch 28/30\n",
            "336/336 [==============================] - 5s 14ms/step - loss: 1.9934 - mae: 0.9800 - val_loss: 2.0013 - val_mae: 0.9826\n",
            "Epoch 29/30\n",
            "336/336 [==============================] - 2s 7ms/step - loss: 1.9934 - mae: 0.9800 - val_loss: 2.0013 - val_mae: 0.9826\n",
            "Epoch 30/30\n",
            "336/336 [==============================] - 2s 6ms/step - loss: 1.9934 - mae: 0.9800 - val_loss: 2.0013 - val_mae: 0.9826\n"
          ]
        }
      ]
    },
    {
      "cell_type": "code",
      "source": [
        "loss = history.history['loss']\n",
        "val_loss = history.history['val_loss']\n",
        "plt.figure()\n",
        "plt.plot(loss, label='Training Loss')\n",
        "plt.plot(val_loss, label='Validation Loss')\n",
        "plt.title('Loss Plot')\n",
        "plt.xlabel('Epochs')\n",
        "plt.ylabel('Loss')\n",
        "plt.legend()\n",
        "plt.show()"
      ],
      "metadata": {
        "colab": {
          "base_uri": "https://localhost:8080/",
          "height": 472
        },
        "id": "syyDpSSYyE9w",
        "outputId": "9383be92-56d3-45f7-dcee-9f03595b78ae"
      },
      "execution_count": null,
      "outputs": [
        {
          "output_type": "display_data",
          "data": {
            "text/plain": [
              "<Figure size 640x480 with 1 Axes>"
            ],
            "image/png": "[encoded data removed]"
          },
          "metadata": {}
        }
      ]
    },
    {
      "cell_type": "code",
      "source": [
        "np.shape(X_train[0])"
      ],
      "metadata": {
        "colab": {
          "base_uri": "https://localhost:8080/"
        },
        "id": "IQj66rk1b1qA",
        "outputId": "40bace16-933a-46ad-a6f4-b4855784f0b6"
      },
      "execution_count": null,
      "outputs": [
        {
          "output_type": "execute_result",
          "data": {
            "text/plain": [
              "(6, 8, 8)"
            ]
          },
          "metadata": {},
          "execution_count": 47
        }
      ]
    },
    {
      "cell_type": "code",
      "source": [
        "sample_to_predict = np.expand_dims(X_train[0], axis=0)\n",
        "\n",
        "# Now, you can use model.predict with the reshaped input\n",
        "predictions = model.predict(sample_to_predict)\n"
      ],
      "metadata": {
        "colab": {
          "base_uri": "https://localhost:8080/"
        },
        "id": "c-8SUVsvcr3n",
        "outputId": "70529f7e-e13e-4780-8ea7-1c2439a7681a"
      },
      "execution_count": null,
      "outputs": [
        {
          "output_type": "stream",
          "name": "stdout",
          "text": [
            "1/1 [==============================] - 0s 80ms/step\n"
          ]
        }
      ]
    },
    {
      "cell_type": "code",
      "source": [
        "predictions"
      ],
      "metadata": {
        "colab": {
          "base_uri": "https://localhost:8080/"
        },
        "id": "XHj34FvRcunY",
        "outputId": "0b219b7e-7555-42a2-8e76-9f53e8be7d9d"
      },
      "execution_count": null,
      "outputs": [
        {
          "output_type": "execute_result",
          "data": {
            "text/plain": [
              "array([[[[2.37328350e-05, 1.50466949e-04, 2.36284905e-04,\n",
              "          1.30676694e-04, 2.50809913e-04, 7.03468861e-04,\n",
              "          1.49470245e-04, 1.97553290e-05],\n",
              "         [8.36694817e-05, 1.86618418e-04, 3.65657150e-04,\n",
              "          3.14312405e-04, 4.39496565e-04, 6.20471765e-05,\n",
              "          9.89247565e-05, 9.53784474e-05],\n",
              "         [1.84816454e-04, 3.08926567e-04, 4.41171549e-04,\n",
              "          1.38538750e-03, 2.27606040e-04, 1.95213815e-03,\n",
              "          1.64267840e-04, 5.80792548e-05],\n",
              "         [1.28735424e-04, 2.85794376e-04, 1.74657383e-04,\n",
              "          4.68303333e-04, 7.38862145e-04, 2.14626853e-04,\n",
              "          2.87527102e-04, 2.16077737e-04],\n",
              "         [1.39547818e-04, 2.88323179e-04, 5.94326353e-04,\n",
              "          4.38756659e-04, 2.86869967e-04, 2.56982952e-04,\n",
              "          7.65595410e-04, 7.08164182e-04],\n",
              "         [1.06698455e-04, 6.06108108e-04, 2.13171798e-03,\n",
              "          6.90918008e-04, 2.91165110e-04, 1.14275329e-03,\n",
              "          2.19592970e-04, 2.58135347e-04],\n",
              "         [1.52503315e-04, 1.38783231e-04, 8.42257505e-05,\n",
              "          3.71347909e-04, 1.67402744e-04, 1.48225357e-04,\n",
              "          1.51064698e-04, 1.49891697e-04],\n",
              "         [1.35555558e-04, 5.81152635e-05, 2.85202899e-04,\n",
              "          3.37567093e-04, 2.21086782e-03, 1.17370090e-03,\n",
              "          1.95185188e-04, 6.05180030e-05]],\n",
              "\n",
              "        [[1.75414767e-04, 4.41000855e-04, 1.92810525e-03,\n",
              "          1.43337192e-03, 2.24867510e-03, 9.75128380e-04,\n",
              "          2.39698845e-03, 3.79131321e-04],\n",
              "         [1.83025957e-04, 2.17490277e-04, 4.02045203e-04,\n",
              "          3.70744127e-03, 1.13501691e-03, 3.74213327e-04,\n",
              "          3.87365697e-04, 1.28222222e-04],\n",
              "         [6.91989917e-05, 5.77812170e-05, 3.64574109e-04,\n",
              "          7.70330516e-05, 1.51457440e-04, 1.07756830e-04,\n",
              "          1.07373009e-04, 1.15757299e-04],\n",
              "         [3.41361338e-05, 5.97264661e-05, 1.71784020e-04,\n",
              "          9.71740519e-05, 2.62370857e-04, 7.72124185e-05,\n",
              "          1.56168244e-04, 6.06997237e-05],\n",
              "         [5.19777386e-05, 9.17548023e-05, 2.54753686e-04,\n",
              "          1.64528043e-04, 2.00271490e-04, 6.79898221e-05,\n",
              "          2.06983575e-04, 6.39788050e-05],\n",
              "         [9.25865243e-05, 9.78022799e-05, 1.00408877e-04,\n",
              "          2.20796152e-04, 8.36306281e-05, 3.07854905e-04,\n",
              "          1.69840016e-04, 9.27530200e-05],\n",
              "         [1.87015292e-04, 5.72705118e-04, 1.58607552e-03,\n",
              "          1.34207949e-03, 9.68504976e-03, 6.25487126e-04,\n",
              "          1.76040106e-03, 3.93364782e-04],\n",
              "         [3.24431545e-04, 8.81901477e-04, 1.81909278e-03,\n",
              "          2.37897225e-03, 1.04425068e-03, 1.17890572e-03,\n",
              "          5.16670151e-03, 2.76990904e-04]]]], dtype=float32)"
            ]
          },
          "metadata": {},
          "execution_count": 49
        }
      ]
    },
    {
      "cell_type": "markdown",
      "source": [
        "## Hawks Baseline"
      ],
      "metadata": {
        "id": "U3ADWKWu0-D5"
      }
    },
    {
      "cell_type": "code",
      "source": [
        "X_train = np.load('/content/drive/MyDrive/Tcc/X.npy')\n",
        "y_train = np.array('/content/drive/MyDrive/Tcc/y.npy')"
      ],
      "metadata": {
        "id": "bUV9YqmFnPDJ"
      },
      "execution_count": null,
      "outputs": []
    },
    {
      "cell_type": "code",
      "source": [
        "X_train = np.array(X)\n",
        "y_train = np.array(y)\n",
        "\n",
        "hidden_size = 200\n",
        "\n",
        "model = keras.Sequential([\n",
        "    keras.layers.Conv2D(hidden_size, (3, 3), activation='relu', input_shape=(6, 8, 8), padding='same',data_format='channels_first'),\n",
        "    keras.layers.BatchNormalization(),\n",
        "    keras.layers.Conv2D(hidden_size, (3, 3), activation='selu', padding='same',data_format='channels_first'),\n",
        "    keras.layers.BatchNormalization(),\n",
        "    keras.layers.Conv2D(hidden_size, (3, 3), activation='selu', padding='same',data_format='channels_first'),\n",
        "    keras.layers.BatchNormalization(),\n",
        "    keras.layers.Conv2D(hidden_size, (3, 3), activation=\"softmax\",padding='same',data_format='channels_first')\n",
        "])\n",
        "\n",
        "\n",
        "\n",
        "\n",
        "model.compile(optimizer='adam', loss=custom_loss)  #\n",
        "history = model.fit(X_train, y_train, epochs=30, validation_split=0.2, batch_size=32)"
      ],
      "metadata": {
        "id": "7-gaLNGYxKGQ"
      },
      "execution_count": null,
      "outputs": []
    },
    {
      "cell_type": "code",
      "source": [
        "loss = history.history['loss']\n",
        "val_loss = history.history['val_loss']\n",
        "plt.figure()\n",
        "plt.plot(loss, label='Training Loss')\n",
        "plt.plot(val_loss, label='Validation Loss')\n",
        "plt.title('Loss Plot')\n",
        "plt.xlabel('Epochs')\n",
        "plt.ylabel('Loss')\n",
        "plt.legend()\n",
        "plt.show()"
      ],
      "metadata": {
        "colab": {
          "base_uri": "https://localhost:8080/",
          "height": 472
        },
        "id": "JB-sViRmy-Tk",
        "outputId": "e6236028-f931-45d3-badd-8033a3cd6221"
      },
      "execution_count": null,
      "outputs": [
        {
          "output_type": "display_data",
          "data": {
            "text/plain": [
              "<Figure size 640x480 with 1 Axes>"
            ],
            "image/png": "[encoded data removed]"
          },
          "metadata": {}
        }
      ]
    },
    {
      "cell_type": "code",
      "source": [
        "import numpy as np\n",
        "import tensorflow as tf\n",
        "from tensorflow import keras\n",
        "from tensorflow.keras.layers import Input, Conv2D, BatchNormalization, Add\n",
        "from tensorflow.keras.models import Model\n",
        "\n",
        "input_layer = Input(shape=(6, 8, 8))\n",
        "\n",
        "hidden_size = 200\n",
        "x = Conv2D(hidden_size, (3, 3), activation='relu', padding='same', data_format='channels_first')(input_layer)\n",
        "skip = Conv2D(hidden_size, (3, 3), activation='selu', padding='same', data_format='channels_first')(x)\n",
        "x = Conv2D(hidden_size, (3, 3), activation='selu', padding='same', data_format='channels_first')(x)\n",
        "x = BatchNormalization()(x)\n",
        "x = Conv2D(hidden_size, (3, 3), activation='selu', padding='same', data_format='channels_first')(x)\n",
        "x = BatchNormalization()(x)\n",
        "x = keras.layers.add([x, skip])\n",
        "x = Conv2D(hidden_size, (3, 3), activation=\"softmax\", padding='same', data_format='channels_first')(x)\n",
        "custom_optimizer = keras.optimizers.Adam(learning_rate=0.001)\n",
        "model = Model(inputs=input_layer, outputs=x)\n",
        "model.compile(optimizer=custom_optimizer, loss=custom_loss)\n",
        "history = model.fit(X_train, y_train, epochs=30, validation_split=0.2, batch_size=32)"
      ],
      "metadata": {
        "id": "3PhNZEGAQe36"
      },
      "execution_count": null,
      "outputs": []
    },
    {
      "cell_type": "code",
      "source": [
        "loss = history.history['loss']\n",
        "val_loss = history.history['val_loss']\n",
        "plt.figure()\n",
        "plt.plot(loss, label='Training Loss')\n",
        "plt.plot(val_loss, label='Validation Loss')\n",
        "plt.title('Loss Plot')\n",
        "plt.xlabel('Epochs')\n",
        "plt.ylabel('Loss')\n",
        "plt.legend()\n",
        "plt.show()"
      ],
      "metadata": {
        "colab": {
          "base_uri": "https://localhost:8080/",
          "height": 472
        },
        "id": "kxRjyx4Qzpvj",
        "outputId": "0ec3f570-3c87-46e2-e922-77ed1a093655"
      },
      "execution_count": null,
      "outputs": [
        {
          "output_type": "display_data",
          "data": {
            "text/plain": [
              "<Figure size 640x480 with 1 Axes>"
            ],
            "image/png": "[encoded data removed]"
          },
          "metadata": {}
        }
      ]
    },
    {
      "cell_type": "markdown",
      "source": [
        "# Hawks Handle Overfitting"
      ],
      "metadata": {
        "id": "ZAva5pSPDFKp"
      }
    },
    {
      "cell_type": "code",
      "source": [
        "from tensorflow.keras.layers import Dropout\n",
        "from tensorflow.keras import regularizers\n",
        "import numpy as np\n",
        "import tensorflow as tf\n",
        "from tensorflow import keras\n",
        "from tensorflow.keras.layers import Input, Conv2D, BatchNormalization, Add\n",
        "from tensorflow.keras.models import Model\n",
        "\n",
        "X_train = np.array(X)\n",
        "y_train = np.array(y)\n",
        "\n",
        "input_layer = Input(shape=(6, 8, 8))\n",
        "\n",
        "hidden_size = 200\n",
        "\n",
        "x = Conv2D(hidden_size, (3, 3), activation='relu', padding='same', data_format='channels_first')(input_layer)\n",
        "skip = Conv2D(hidden_size, (3, 3), activation='selu', padding='same', data_format='channels_first')(x)\n",
        "x = Conv2D(hidden_size, (3, 3), activation='selu', padding='same', data_format='channels_first', kernel_regularizer=regularizers.l2(0.01))(x)\n",
        "x = BatchNormalization()(x)\n",
        "x = Dropout(0.5)(x)\n",
        "x = Conv2D(hidden_size, (3, 3), activation='selu', padding='same', data_format='channels_first', kernel_regularizer=regularizers.l2(0.01))(x)\n",
        "x = BatchNormalization()(x)\n",
        "x = Dropout(0.5)(x)\n",
        "x = keras.layers.add([x, skip])\n",
        "x = Conv2D(hidden_size, (3, 3), activation=\"softmax\", padding='same', data_format='channels_first', kernel_regularizer=regularizers.l2(0.01))(x)\n",
        "custom_optimizer = keras.optimizers.Adam(learning_rate=0.001)\n",
        "model = Model(inputs=input_layer, outputs=x)\n",
        "model.compile(optimizer=custom_optimizer, loss=custom_loss)\n",
        "lr_scheduler = keras.callbacks.LearningRateScheduler(lambda epoch: 0.001 / (10 ** (epoch // 10)))\n",
        "early_stopping = keras.callbacks.EarlyStopping(patience=5, restore_best_weights=True)\n",
        "history = model.fit(X_train, y_train, epochs=30, validation_split=0.2, batch_size=32, callbacks=[lr_scheduler, early_stopping])\n"
      ],
      "metadata": {
        "colab": {
          "base_uri": "https://localhost:8080/"
        },
        "id": "2rhtpfdg0fwC",
        "outputId": "708d77a0-7df8-4e7a-ea71-961e879ce4a2"
      },
      "execution_count": null,
      "outputs": [
        {
          "output_type": "stream",
          "name": "stdout",
          "text": [
            "Epoch 1/30\n",
            "336/336 [==============================] - 19s 9ms/step - loss: 0.9334 - val_loss: 0.3369 - lr: 0.0010\n",
            "Epoch 2/30\n",
            "336/336 [==============================] - 3s 8ms/step - loss: 0.3218 - val_loss: 0.3168 - lr: 0.0010\n",
            "Epoch 3/30\n",
            "336/336 [==============================] - 3s 9ms/step - loss: 0.2999 - val_loss: 0.2978 - lr: 0.0010\n",
            "Epoch 4/30\n",
            "336/336 [==============================] - 3s 10ms/step - loss: 0.2869 - val_loss: 0.2983 - lr: 0.0010\n",
            "Epoch 5/30\n",
            "336/336 [==============================] - 3s 8ms/step - loss: 0.2756 - val_loss: 0.2945 - lr: 0.0010\n",
            "Epoch 6/30\n",
            "336/336 [==============================] - 3s 8ms/step - loss: 0.2651 - val_loss: 0.2856 - lr: 0.0010\n",
            "Epoch 7/30\n",
            "336/336 [==============================] - 3s 8ms/step - loss: 0.2536 - val_loss: 0.2822 - lr: 0.0010\n",
            "Epoch 8/30\n",
            "336/336 [==============================] - 3s 9ms/step - loss: 0.2406 - val_loss: 0.2735 - lr: 0.0010\n",
            "Epoch 9/30\n",
            "336/336 [==============================] - 3s 9ms/step - loss: 0.2308 - val_loss: 0.2775 - lr: 0.0010\n",
            "Epoch 10/30\n",
            "336/336 [==============================] - 3s 8ms/step - loss: 0.2203 - val_loss: 0.2704 - lr: 0.0010\n",
            "Epoch 11/30\n",
            "336/336 [==============================] - 3s 8ms/step - loss: 0.1895 - val_loss: 0.2583 - lr: 1.0000e-04\n",
            "Epoch 12/30\n",
            "336/336 [==============================] - 3s 8ms/step - loss: 0.1835 - val_loss: 0.2607 - lr: 1.0000e-04\n",
            "Epoch 13/30\n",
            "336/336 [==============================] - 3s 8ms/step - loss: 0.1818 - val_loss: 0.2615 - lr: 1.0000e-04\n",
            "Epoch 14/30\n",
            "336/336 [==============================] - 4s 12ms/step - loss: 0.1806 - val_loss: 0.2627 - lr: 1.0000e-04\n",
            "Epoch 15/30\n",
            "336/336 [==============================] - 3s 10ms/step - loss: 0.1794 - val_loss: 0.2634 - lr: 1.0000e-04\n",
            "Epoch 16/30\n",
            "336/336 [==============================] - 3s 8ms/step - loss: 0.1786 - val_loss: 0.2652 - lr: 1.0000e-04\n"
          ]
        }
      ]
    },
    {
      "cell_type": "code",
      "source": [
        "loss = history.history['loss']\n",
        "val_loss = history.history['val_loss']\n",
        "plt.figure()\n",
        "plt.plot(loss, label='Training Loss')\n",
        "plt.plot(val_loss, label='Validation Loss')\n",
        "plt.title('Loss Plot')\n",
        "plt.xlabel('Epochs')\n",
        "plt.ylabel('Loss')\n",
        "plt.legend()\n",
        "plt.show()"
      ],
      "metadata": {
        "colab": {
          "base_uri": "https://localhost:8080/",
          "height": 472
        },
        "id": "gTn2AAlV1UwY",
        "outputId": "bcc8b611-1146-4a9b-9286-e26142632e11"
      },
      "execution_count": null,
      "outputs": [
        {
          "output_type": "display_data",
          "data": {
            "text/plain": [
              "<Figure size 640x480 with 1 Axes>"
            ],
            "image/png": "[encoded data removed]"
          },
          "metadata": {}
        }
      ]
    },
    {
      "cell_type": "markdown",
      "source": [
        "# Play game"
      ],
      "metadata": {
        "id": "tDf5Wa9rm2ix"
      }
    },
    {
      "cell_type": "code",
      "source": [
        "!pip install chess"
      ],
      "metadata": {
        "colab": {
          "base_uri": "https://localhost:8080/"
        },
        "id": "Dph8V-beCEvi",
        "outputId": "093eb41e-0341-4a9f-8be9-54f4d1ddf0ff"
      },
      "execution_count": null,
      "outputs": [
        {
          "output_type": "stream",
          "name": "stdout",
          "text": [
            "Collecting chess\n",
            "  Downloading chess-1.10.0-py3-none-any.whl (154 kB)\n",
            "\u001b[2K     \u001b[90m━━━━━━━━━━━━━━━━━━━━━━━━━━━━━━━━━━━━━━━\u001b[0m \u001b[32m154.4/154.4 kB\u001b[0m \u001b[31m3.2 MB/s\u001b[0m eta \u001b[36m0:00:00\u001b[0m\n",
            "\u001b[?25hInstalling collected packages: chess\n",
            "Successfully installed chess-1.10.0\n"
          ]
        }
      ]
    },
    {
      "cell_type": "code",
      "source": [
        "def custom_loss(output, target):\n",
        "    from_loss = tf.keras.losses.CategoricalCrossentropy()\n",
        "    to_loss = tf.keras.losses.CategoricalCrossentropy()\n",
        "    loss = from_loss(output[:,0,:], target[:,0,:]) + to_loss(output[:,1,:], target[:,1,:])\n",
        "    return loss"
      ],
      "metadata": {
        "id": "rTnFhuYnC7IQ"
      },
      "execution_count": null,
      "outputs": []
    },
    {
      "cell_type": "code",
      "source": [],
      "metadata": {
        "id": "UobtIzIyrslG"
      },
      "execution_count": null,
      "outputs": []
    },
    {
      "cell_type": "code",
      "source": [
        "import tensorflow as tf\n",
        "custom_objects = {'custom_loss': custom_loss}\n",
        "model = tf.keras.models.load_model('/content/drive/MyDrive/Tcc/hawks_v3.h5',custom_objects=custom_objects,compile=False)\n",
        "model.layers[0].data_format = 'channels_last'\n",
        "model.compile(optimizer=custom_optimizer, loss=custom_loss)"
      ],
      "metadata": {
        "id": "iNue2cGVCmfH"
      },
      "execution_count": null,
      "outputs": []
    },
    {
      "cell_type": "code",
      "source": [
        "alphabet_to_number = {\n",
        "    'a': 0,\n",
        "    'b': 1,\n",
        "    'c': 2,\n",
        "    'd': 3,\n",
        "    'e': 4,\n",
        "    'f': 5,\n",
        "    'g': 6,\n",
        "    'h': 7\n",
        "}\n",
        "\n",
        "number_to_alphabet = {v: k for k, v in alphabet_to_number.items()}\n",
        "\n",
        "import numpy as np\n",
        "def fen_to_numeric(fen_string,piece):\n",
        "    piece_placement = fen_string.split()[0]\n",
        "    board = [[0] * 8 for _ in range(8)]\n",
        "    row_index = 0\n",
        "    col_index = 0\n",
        "\n",
        "    for char in piece_placement:\n",
        "        if char == '/':\n",
        "            row_index += 1\n",
        "            col_index = 0\n",
        "        elif char.isdigit():\n",
        "            col_index += int(char)\n",
        "        elif char.lower() == piece.lower():\n",
        "            piece_value = 1\n",
        "            if char.islower():\n",
        "                piece_value *= -1\n",
        "            board[row_index][col_index] = piece_value\n",
        "            col_index += 1\n",
        "        else:\n",
        "          board[row_index][col_index] = 0\n",
        "          col_index += 1\n",
        "\n",
        "    return board\n",
        "\n",
        "def matrix_board(board):\n",
        "  pieces = [\"p\",\"k\",\"r\",\"n\",\"q\",\"b\"]\n",
        "  layers = []\n",
        "  for piece in pieces:\n",
        "    layers.append(fen_to_numeric(board.fen(),piece))\n",
        "  return np.stack(layers)\n",
        "\n",
        "def move_matrix(move):\n",
        "  uci_move = move\n",
        "\n",
        "  from_output_layer = np.zeros((8,8))\n",
        "  from_row= 8 - int(uci_move[1])\n",
        "  from_column= alphabet_to_number[uci_move[0]]\n",
        "  from_output_layer[from_row, from_column] = 1\n",
        "\n",
        "  to_output_layer = np.zeros((8,8))\n",
        "  to_row = 8 - int(uci_move[3])\n",
        "  tow_column = alphabet_to_number[uci_move[2]]\n",
        "  to_output_layer[to_row, tow_column] = 1\n",
        "  return np.stack([from_output_layer,to_output_layer])"
      ],
      "metadata": {
        "id": "0qViAzdSel-T"
      },
      "execution_count": null,
      "outputs": []
    },
    {
      "cell_type": "code",
      "source": [
        "def distribution(probabilities):\n",
        "  dist = np.exp(np.array(probabilities))\n",
        "  dist = (dist/dist.sum())**3\n",
        "  return dist/dist.sum()\n",
        "\n",
        "def hawks(board,ply):\n",
        "  previous_position = matrix_board(board)\n",
        "  matrix = np.moveaxis(np.expand_dims(previous_position, axis=0), 1, 1)\n",
        "\n",
        "  if board.turn == False:\n",
        "    matrix *= -1\n",
        "\n",
        "  predictions = model.predict(matrix)\n",
        "\n",
        "  y = predictions[0,:,:]\n",
        "\n",
        "  vals = []\n",
        "  froms =  [str(legal_move)[:2] for legal_move in board.legal_moves]\n",
        "  froms = list(set(froms))\n",
        "  for from_ in froms:\n",
        "    val = y[0,:,:][8 - int(from_[1]), alphabet_to_number[from_[0]]]\n",
        "    vals.append(val)\n",
        "\n",
        "  probs = distribution(vals)\n",
        "  choosen = str(np.random.choice(froms, size=1, p=probs)[0])[:2]\n",
        "\n",
        "  values = []\n",
        "  moves = []\n",
        "  for move in list(board.legal_moves):\n",
        "    if choosen == str(move)[:2]:\n",
        "      to = str(move)[2:]\n",
        "      val = y[1,:,:][8 - int(to[1]), alphabet_to_number[to[0]]]\n",
        "      values.append(val)\n",
        "      moves.append(choosen+to)\n",
        "  choice = moves[np.argmax(values)]\n",
        "  return chess.Move.from_uci(choice)"
      ],
      "metadata": {
        "id": "JluuqbkXdi-o"
      },
      "execution_count": null,
      "outputs": []
    },
    {
      "cell_type": "code",
      "source": [
        "import time\n",
        "import chess\n",
        "import chess.polyglot as plg\n",
        "import random\n",
        "import inspect\n",
        "from IPython.display import display, HTML, clear_output\n",
        "from datetime import datetime\n",
        "import chess.pgn\n",
        "def who(player):\n",
        "    return \"White\" if player == chess.WHITE else \"Black\"\n",
        "def display_board(board, use_svg):\n",
        "    if use_svg:\n",
        "        return board._repr_svg_()\n",
        "    else:\n",
        "        return \"<pre>\" + str(board) + \"</pre>\"\n",
        "\n",
        "# Meus incrementos\n",
        "def controle_de_vantagem(board):\n",
        "  scoreW = 0\n",
        "  scoreB = 0\n",
        "  pawn, knight, bishop, queen = chess.PAWN,chess.KNIGHT,chess.BISHOP, chess.QUEEN\n",
        "  dic = {pawn:1, knight:3,bishop:3.15,chess.ROOK:5,queen:10}\n",
        "\n",
        "  for piece, value in dic.items():\n",
        "    scoreW+= len(board.pieces(piece, chess.WHITE)) * value\n",
        "    scoreB+= len(board.pieces(piece, chess.BLACK)) * value\n",
        "\n",
        "  resultW = \"{:.2f}\".format(scoreW - scoreB)\n",
        "  resultB = \"{:.2f}\".format(scoreB - scoreW)\n",
        "\n",
        "  resultado = (\"White:\" + str(resultW) + \", BLack:\" + str(resultB))\n",
        "\n",
        "  return resultado\n",
        "\n",
        "\n",
        "def play_game(player1, ply1, player2, ply2, visual=\"svg\", pause=0.1):\n",
        "    use_svg = (visual == \"svg\")\n",
        "    board = chess.Board()\n",
        "    partida = chess.pgn.Game()\n",
        "    partida.headers[\"Event\"] = \"Partida de teste contra outros bots\"\n",
        "    partida.headers[\"Date\"] = datetime.today().strftime('%Y-%m-%d')\n",
        "    partida.headers[\"White\"] = str(player1)\n",
        "    partida.headers[\"White\"] = str(player2)\n",
        "\n",
        "    try:\n",
        "        while not board.is_game_over(claim_draw=True):\n",
        "            i = 0\n",
        "            if board.turn == chess.WHITE:\n",
        "              if inspect.isclass(player1):\n",
        "                uci = player1(board,ply1)\n",
        "                uci = uci.movement(ply1)\n",
        "              else:\n",
        "                uci = player1(board,ply1)\n",
        "            else:\n",
        "              if inspect.isclass(player2):\n",
        "                uci = player2(board,ply1)\n",
        "                uci = uci.movement(ply1)\n",
        "              else:\n",
        "                uci = player2(board,ply2)\n",
        "            name = who(board.turn)\n",
        "            board.push(uci)\n",
        "            print(uci)\n",
        "            if i ==0:\n",
        "              node = partida.add_variation(uci)\n",
        "            else:\n",
        "              node = node.add_variation(uci)\n",
        "            i+=1\n",
        "            controle = controle_de_vantagem(board)\n",
        "            board_stop = display_board(board, use_svg)\n",
        "            html = \"<b>Vantagem :'%s',Move %s %s, Play '%s':</b><br/>%s\" % (controle,\n",
        "                       len(board.move_stack), name, uci, board_stop)\n",
        "            if visual is not None:\n",
        "                if visual == \"svg\":\n",
        "                    clear_output(wait=True)\n",
        "                display(HTML(html))\n",
        "                if visual == \"svg\":\n",
        "                    time.sleep(pause)\n",
        "    except KeyboardInterrupt:\n",
        "        msg = \"Game interrupted!\"\n",
        "        return (None, msg, board)\n",
        "    result = None\n",
        "    if board.is_checkmate():\n",
        "        msg = \"checkmate: \" + who(not board.turn) + \" wins!\"\n",
        "        result = not board.turn\n",
        "        if result == \"White\":\n",
        "          partida.headers[\"Result\"] = \"1-0\"\n",
        "        else:\n",
        "          partida.headers[\"Result\"] = \"0-1\"\n",
        "    elif board.is_stalemate():\n",
        "        msg = \"draw: stalemate\"\n",
        "        partida.headers[\"Result\"] = \"1/2-1/2\"\n",
        "    elif board.is_fivefold_repetition():\n",
        "        msg = \"draw: 5-fold repetition\"\n",
        "        partida.headers[\"Result\"] = \"1/2-1/2\"\n",
        "    elif board.is_insufficient_material():\n",
        "        msg = \"draw: insufficient material\"\n",
        "        partida.headers[\"Result\"] = \"1/2-1/2\"\n",
        "    elif board.can_claim_draw():\n",
        "        msg = \"draw: claim\"\n",
        "        partida.headers[\"Result\"] = \"1/2-1/2\"\n",
        "    if visual is not None:\n",
        "        print(msg)\n",
        "    print(partida)\n",
        "    return (result, msg, board, partida)"
      ],
      "metadata": {
        "id": "QTv_RZp7eLs-"
      },
      "execution_count": null,
      "outputs": []
    },
    {
      "cell_type": "code",
      "source": [
        "def dumb_player(board,ply):\n",
        "  return random.choice(list(board.legal_moves))"
      ],
      "metadata": {
        "id": "LocvcHPPeQM-"
      },
      "execution_count": null,
      "outputs": []
    },
    {
      "cell_type": "code",
      "source": [
        "play_game(hawks,2,dumb_player,2)"
      ],
      "metadata": {
        "id": "XOYOjW1teTSl"
      },
      "execution_count": null,
      "outputs": []
    },
    {
      "cell_type": "code",
      "source": [
        "model.save('/content/drive/MyDrive/Tcc/hawks_v4.h5')"
      ],
      "metadata": {
        "id": "ohNLlN6F6lda",
        "colab": {
          "base_uri": "https://localhost:8080/"
        },
        "outputId": "9556c9b6-87aa-4ae4-b062-b2a13ca55576"
      },
      "execution_count": null,
      "outputs": [
        {
          "output_type": "stream",
          "name": "stderr",
          "text": [
            "/usr/local/lib/python3.10/dist-packages/keras/src/engine/training.py:3079: UserWarning: You are saving your model as an HDF5 file via `model.save()`. This file format is considered legacy. We recommend using instead the native Keras format, e.g. `model.save('my_model.keras')`.\n",
            "  saving_api.save_model(\n"
          ]
        }
      ]
    }
  ]
}